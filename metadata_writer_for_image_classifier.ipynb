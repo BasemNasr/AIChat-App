{
  "nbformat": 4,
  "nbformat_minor": 0,
  "metadata": {
    "colab": {
      "provenance": [],
      "include_colab_link": true
    },
    "kernelspec": {
      "name": "python3",
      "display_name": "Python 3"
    },
    "language_info": {
      "name": "python"
    },
    "accelerator": "TPU"
  },
  "cells": [
    {
      "cell_type": "markdown",
      "metadata": {
        "id": "view-in-github",
        "colab_type": "text"
      },
      "source": [
        "<a href=\"https://colab.research.google.com/github/BasemNasr/AIChat-App/blob/master/metadata_writer_for_image_classifier.ipynb\" target=\"_parent\"><img src=\"https://colab.research.google.com/assets/colab-badge.svg\" alt=\"Open In Colab\"/></a>"
      ]
    },
    {
      "cell_type": "markdown",
      "source": [
        "# STEP 1) CREATE A FOLDER IN YOUR GOOGLE DRIVE NAMED metadata\n",
        "\n",
        "## Create another folder named ***model_with_metadata*** inside the *metadata* folder.\n"
      ],
      "metadata": {
        "id": "N60IuRIoCm92"
      }
    },
    {
      "cell_type": "markdown",
      "source": [
        "# STEP 2) MOUNT DRIVE & NAVIGATE TO THE *metadata* FOLDER"
      ],
      "metadata": {
        "id": "-Hr5qPAZDYo8"
      }
    },
    {
      "cell_type": "code",
      "metadata": {
        "id": "DGbG4BwVoQIQ",
        "colab": {
          "base_uri": "https://localhost:8080/"
        },
        "outputId": "35eacf84-e084-47d8-8b9c-408d21561fea"
      },
      "source": [
        "#mount drive\n",
        "%cd ..\n",
        "from google.colab import drive\n",
        "drive.mount('/content/gdrive')\n",
        "\n",
        "# this creates a symbolic link so that now the path /content/gdrive/My\\ Drive/ is equal to /mydrive\n",
        "!ln -s /content/gdrive/My\\ Drive/ /mydrive\n",
        "\n",
        "# list the contents of /mydrive\n",
        "!ls /mydrive\n",
        "\n",
        "#Navigate to /mydrive/metadata\n",
        "%cd /mydrive/metadata"
      ],
      "execution_count": 1,
      "outputs": [
        {
          "output_type": "stream",
          "name": "stdout",
          "text": [
            "/\n",
            "Mounted at /content/gdrive\n",
            " 123.pdf\n",
            " 1.JPG\n",
            " ٢٠١٧٠٥٣٠٠٧٥٠١١.mp4\n",
            "'2 (1).JPG'\n",
            "'7assal Connect - QuickPay - V1.pdf'\n",
            " admin.rar\n",
            " AgoraHelper.kt\n",
            " AI.rar\n",
            " AlAlamiaElhurra\n",
            " almr3y.psd\n",
            " almr3y.psd.zip\n",
            "'Android Development Roadmap 2022.pdf'\n",
            "'Android Photo Realistic Device Mockups - Free Version.psd.zip'\n",
            "'Android Task.pdf'\n",
            " AnimalIdentficationDone.apk\n",
            "'animals sounds .apk'\n",
            " animasounds2v1.apk\n",
            " AnimlIdentv1.apk\n",
            " app-release.apk\n",
            " app-release.rar\n",
            "'AR Presentation .pptx'\n",
            "'ASC Certificate Baaem Nasr SSA.pdf'\n",
            " automatic-watermark-detection-master.zip\n",
            "'aya project.rar'\n",
            " basem_02.mpg\n",
            "'BasemNasr CV (1).pdf'\n",
            "'BasemNasr CV For Univ...pdf'\n",
            "'BasemNasr CV.pdf'\n",
            "'Basem Nasr Senior Android Developer resume.pdf'\n",
            "'Bassem Report.gdoc'\n",
            "'Beauty Center App.gsheet'\n",
            " bell4hendy.apk\n",
            "'Bella After Burn.apk'\n",
            "'Bella Backend.gdoc'\n",
            "'Bella Done2.apk'\n",
            "'Bella Done.apk'\n",
            "'Bella Finished.apk'\n",
            "'Bella For Hendy.apk'\n",
            " Bella-Ksa.apk\n",
            " Bella.rar\n",
            "'bellatesting version.apk'\n",
            "'Brands icons.rar'\n",
            "'Bubuzy Mobile Needed .gdoc'\n",
            "'Captain One Tasks.gsheet'\n",
            " Catalog.rar\n",
            " Certificates\n",
            " ch02-agents.ppt\n",
            "'Colab Notebooks'\n",
            " Col.apk\n",
            " coll.apk\n",
            "'colours 1.3.apk'\n",
            "'Contact Information.gform'\n",
            " content\n",
            " Coplie1.mp3\n",
            " Coulor.apk\n",
            "'croki design.rar'\n",
            " customTF2\n",
            " cv.jpg\n",
            " d.gdoc\n",
            "'docx (1).rar'\n",
            " Done.rar\n",
            "'Do you want Play agame.rar'\n",
            " driver_fetch_crashes.apk\n",
            " Eduv1.4.apk\n",
            " El5aroof\n",
            " ElarabyCar4.1.apk\n",
            "'Elaraby Taxy App'\n",
            "'ela salate test.apk'\n",
            "'Ela Salaty'\n",
            "'ElaSalaty App.gdoc'\n",
            "'Elfnon Car Demo.rar'\n",
            "'ElfnonTech (Web View).rar'\n",
            "'Elgam3a app design '\n",
            " elmara1.2.rar\n",
            " elmaraa1.2.rar\n",
            " elmaraa3.rar\n",
            " ElmaraaFinish.apk\n",
            " ElmaraaTest1.apk\n",
            " ElmoltakaJobs.apk\n",
            "'Elmoltaka Small.apk'\n",
            " ElmoltakaTemplets.rar\n",
            " Elmoltakav4.apk\n",
            "'Elmoltaka without ads.apk'\n",
            "'Elno5ba Backend.gdoc'\n",
            " ElnokbaAfterEdits.apk\n",
            "'Elnokhba 1.3.apk'\n",
            " Elnokhba1.apk\n",
            "'elnokhba 2.2.apk'\n",
            " Elnokhba2.apk\n",
            "'Elnokhba delete sala solved1.1.apk'\n",
            "'Elnokhba delete sala solved.apk'\n",
            "'ELnokhba Finals.apk'\n",
            " Elnokhba.rar\n",
            " error.png\n",
            " eula.1028.txt.rar\n",
            "'Eye Question package.unitypackage'\n",
            " FCIS-2018.apk\n",
            " FCIS-2018.rar\n",
            "'FCIS : Design Chalenge.gform'\n",
            "'FCIS Khan : Talents Mode.gform'\n",
            " fcis-union.apk\n",
            "'FCIS UNION App Form.gform'\n",
            "'fekra (1).rar'\n",
            " fekra.rar\n",
            "'fixed crash 1.apk'\n",
            "'Flutter Succinctly.pdf'\n",
            " formal.rar\n",
            "'full work  tgwal.jpg'\n",
            " getBugsMersal.apk\n",
            "'Golden App '\n",
            " Golden-Market.pptx\n",
            "'Graduation Project'\n",
            "'graphic project.rar'\n",
            " Haflaty\n",
            "'Haflaty Api Docuumentation.gdoc'\n",
            " haflaty_final_version.apk\n",
            "'Haflaty Project'\n",
            " haflatyv1.apk\n",
            " handballsuccessapk.apk\n",
            " Haraaaj.apk\n",
            " Haraj2.apk\n",
            "'Haraj android source Code.rar'\n",
            " haraj.apk\n",
            "'Haraj Finish.apk'\n",
            " hesabatbg.png\n",
            " HiragannaApp.rar\n",
            "'How to Enhance app performance.mp4'\n",
            "'IAO App Documentation.gdoc'\n",
            "'IAO BackEnd .gdoc'\n",
            "'IAO System'\n",
            "'IAO Team.pdf'\n",
            "'ICU Mans'\n",
            "'ICU Mans Apies V2.gdoc'\n",
            " images\n",
            " images.zip\n",
            " input.txt\n",
            " introductiontoaugmmentedreality-161002125233.pptx\n",
            "'ios screens without mockup.rar'\n",
            " ITI-FCI.pdf\n",
            "'Jane Test1.apk'\n",
            "'Jane v2 test.apk'\n",
            "'jetbrains-bitbucket-connector_IC-139.224 (1).zip'\n",
            " jetbrains-bitbucket-connector_IC-139.224.zip\n",
            " kareem.jpg\n",
            " ladiesafterhendy.apk\n",
            "'Ladies Project'\n",
            "'ladies test mic Mr saad .apk'\n",
            "'last haflaty.apk'\n",
            " Lecture1011-MobileUbiqtuous-Computing.ppt\n",
            " logo.png\n",
            " logos.rar\n",
            " lottery.txt\n",
            " m10.apk\n",
            " m11.apk\n",
            "'mahalawy  Motion ads.rar'\n",
            "'mahalawy test map issue on android 11.apk'\n",
            "'mahallawy 2.1.apk'\n",
            "'Mahallawy Design'\n",
            "'Mahallawy ios update'\n",
            " mask_test_images\n",
            " Materiaal.pdf\n",
            "'Materials .gdoc'\n",
            " McatchBugs.apk\n",
            " mersaaalvdesgn.apk\n",
            "'mersaal fffinissh.apk'\n",
            " Mersal\n",
            "'mersal 1.7.apk'\n",
            "'mersal 1.9.apk'\n",
            "'mersal 2.0.apk'\n",
            " mersal2.0.apk\n",
            "'Mersal 2.1.apk'\n",
            "'mersal 2.1 test crash.apk'\n",
            "'Mersal 23.apk'\n",
            " mersal23last.apk\n",
            " mersal2_7.apk\n",
            " mersal31.apk\n",
            "'Mersal Apis V2.gdoc'\n",
            "'Mersal App Udpate 1 back-end.gdoc'\n",
            "'Mersal backup.rar'\n",
            " MersalBugstank.apk\n",
            "'Mersal Chat IOS نقاط المتبقية في.gdoc'\n",
            "'Mersal Dashboard '\n",
            " mersalDone23.apk\n",
            " mersaldone.apk\n",
            "'mersal doooone.apk'\n",
            " mersal-fetch-bugs.apk\n",
            "'mersal finished.apk'\n",
            " mersalfixeallbugs.apk\n",
            " mersalfrinds.apk\n",
            " mersalFrinds.rar\n",
            "'Mersal IOS'\n",
            "'Mersal IOS.gdoc'\n",
            " mersalll.apk\n",
            " mersalRootAvailability3_6.apk\n",
            " MersalSmall.apk\n",
            " mersal-test-allocation2.apk\n",
            " mersal-test-allocation3.apk\n",
            " mersal-test-allocation.apk\n",
            "'mersal test.apk'\n",
            " mersaltestbuy.apk\n",
            "'mersal test chat.apk'\n",
            "'Mersal Update .gsheet'\n",
            "'mersal v1.apk'\n",
            "'Mersal V2 Finished.apk'\n",
            "'Mersal version 3.apk'\n",
            " MersalWithSound.apk\n",
            " metadata\n",
            " mfriends.apk\n",
            " mmersal25.apk\n",
            " mmersal.apk\n",
            " mmmnewmersal.apk\n",
            " mockup.png\n",
            "'mrsal(karam)'\n",
            " MyAnatomy\n",
            " My-Anatomy.pptx\n",
            " My-Anatomy.pptx.gslides\n",
            " MyAnatomyVR.apk\n",
            "'My Celebration.xls'\n",
            "'My Drive'\n",
            " Nabd.apk\n",
            " nabd_new_domain.apk\n",
            "'nabd test.apk'\n",
            "'Nabd v1.apk'\n",
            " NabdV1.apk\n",
            " net2ftp-1458751516.zip\n",
            " outlogo.png\n",
            " outlogo.rar\n",
            " panner.JPG\n",
            " pic2.jpg\n",
            "'Privacy Policy.gsite'\n",
            " ProAppFinish2.rar\n",
            " ProAppFinish.rar\n",
            " ProCar-release.apk\n",
            " ProDDriverFinish.rar\n",
            " prodriverdoneee.rar\n",
            "'pro driver finished.rar'\n",
            " proDriverFinish.rar\n",
            " ProFinishClient.rar\n",
            " ProfitionalTaxiFinish.rar\n",
            " Progs\n",
            " project.rar\n",
            " ProooZ.rar\n",
            " Proposal.pptx\n",
            " Proposal.pptx.gslides\n",
            " ProTaxiFinish.rar\n",
            " ProTaxiii.rar\n",
            "'Pro Taxi.rar'\n",
            "'ProTrack Tasks.gdoc'\n",
            " prrodriver.rar\n",
            " Recuirment.docx\n",
            " Recuirment.docx.gdoc\n",
            "'Reels Android Points.gsheet'\n",
            "'retrive crash mersal.apk'\n",
            "'rotation icons.rar'\n",
            "'Sallon App Design'\n",
            "'Salonil Financial details.gsheet'\n",
            "'school edu.gdoc'\n",
            "'Screen issues'\n",
            " Screenshot_٢٠١٧٠٦١٠-٠٢١٠٥٢.png\n",
            " screens.rar\n",
            " SensorLightTest.apk\n",
            " smooks.apk\n",
            " Soom.apk\n",
            " Sunshine-Version-2-1.01_hello_world.rar\n",
            " Tadwina.zip\n",
            "'Tasks 29 1 2016.gdoc'\n",
            "'tasksMahalla Store.pdf'\n",
            "'tawkelak 2_1 .apk'\n",
            "'tawkelak 307.apk'\n",
            "'Tawkelak 317.apk'\n",
            "'tawkelak  facebook solution .rar'\n",
            "'Tawkelak finish2.apk'\n",
            "'Tawkelak Finish.apk'\n",
            "'tawkelak finishhhwllahe .apk'\n",
            "'tawkelak new version.apk'\n",
            "'tawkelak updates.apk'\n",
            "'Tawkely Files'\n",
            " tawkelyTestVersion.apk\n",
            " tawkkk.apk\n",
            " tawkkkk.rar\n",
            " tawww.apk\n",
            "'test (1).rar'\n",
            "'test map.apk'\n",
            " testprinter.apk\n",
            " test.rar\n",
            " testrighttoleftapk.apk\n",
            " testvoice.apk\n",
            " Threading\n",
            "'Training evaluation ( Mostafa ).gsheet'\n",
            " ttttt.apk\n",
            "'Untitled document (1).gdoc'\n",
            "'Untitled document.gdoc'\n",
            "'Untitled form (1).gform'\n",
            "'Untitled form.gform'\n",
            "'wanna play a game idea of stages.gdoc'\n",
            " WazeftyV2.apk\n",
            " WazeftyV4.apk\n",
            " weather_basem_nasr.apk\n",
            " week2_manual.pdf\n",
            " wthsicon.png\n",
            "'www.my-progs.com samples - malware.gsheet'\n",
            "'yalla no5rog test.apk'\n",
            " ZakatiTest.apk\n",
            "'Zoz Client Points Android Timing.gsheet'\n",
            "'Zoz Compose App Tasks.gsheet'\n",
            "'ZOZ متطلبات ضرورية .gdoc'\n",
            "'اسماء الطلاب.gdoc'\n",
            "'الجدول تجربة.apk'\n",
            "'الحجات الى ناقصة فى Ladies.gdoc'\n",
            "'ايقونات الزبون.rar'\n",
            "'ايقونات السواق.rar'\n",
            " ايماجن.docx\n",
            "'تحديث محلاوي IOS.gdoc'\n",
            "'تطبيق sellerex.docx'\n",
            "'تطبيق التاكسي.gdoc'\n",
            "'تطبيق التوكيلات باك اند.gdoc'\n",
            "'تقطيع المرعي.rar'\n",
            "'تلقي شكاوي طلاب كلية الحاسبات والمعلومات جامعة المنصورة.gform'\n",
            " تمباتى.rar\n",
            "'توضيح ونقاط هامه جدا جدا جدا.pdf'\n",
            "'توكيل رسمي عام ادارة ارض صناعية.doc'\n",
            "'حفلتي ملاحظات نهائية.gdoc'\n",
            "'دعوة حضور مصيف المتسولين الدولي.gform'\n",
            "'شرح استخراج تطبيق لموقعك.mp4'\n",
            "'شرح محتوي الكتاب.gdoc'\n",
            "'شغل الباك اند الى مطلوب.gdoc'\n",
            "'شغل باك اند مرسال.gdoc'\n",
            "'شغل باك لينك.gdoc'\n",
            "'صور آخر يوم فى سنة 2'\n",
            "'لا يجد قنوات مفضلة.png'\n",
            "'محلاوي فويس اوفر'\n",
            "'ملاحظات المرعي IOS.gdoc'\n",
            "'ملاحظات حفلتي الباقية .gdoc'\n",
            "'ملاحظات حفلتي المطلوبة من حلمي.gdoc'\n",
            "'ملاحظات مرسال .gdoc'\n",
            "/content/gdrive/My Drive/metadata\n"
          ]
        }
      ]
    },
    {
      "cell_type": "code",
      "source": [
        "%cd /mydrive/metadata"
      ],
      "metadata": {
        "id": "rj_MBkKIcFLj",
        "outputId": "81a65633-134d-4fd2-f503-54ff3fa1e06d",
        "colab": {
          "base_uri": "https://localhost:8080/"
        }
      },
      "execution_count": 2,
      "outputs": [
        {
          "output_type": "stream",
          "name": "stdout",
          "text": [
            "/content/gdrive/My Drive/metadata\n"
          ]
        }
      ]
    },
    {
      "cell_type": "markdown",
      "source": [
        "# STEP 3) UPLOAD THE FOLLOWING 3 FILES TO THE metadata folder\n",
        "\n",
        "1.   metadata_writer_for_image_classifier.py\n",
        "2.   model.tflite & all other models\n",
        "3.   labels.txt\n",
        "\n",
        "Here \"model.tflite\" is your trained model and \"labels.txt\" has the names of your classes. You can also have other models for eg: 1 quantized uint format for mobilenet and 1 floating-point format for mobilenet. Similarly, you can include other models like both formats for efficientnet etc. These are the 2 models given in the Android Image Classification reference app.\n",
        "\n",
        "The *metadata_writer_for_image_classifier.py* script is from the metadata folder inside the Image Classification sample Android app from TensorFlow's GitHub. Adjust the _MODEL_INFO and the model description according to your requirements.Also set the name of the output model in the script accordingly (Explained in the video)"
      ],
      "metadata": {
        "id": "1Zk8xUtvCcQh"
      }
    },
    {
      "cell_type": "markdown",
      "source": [
        "# STEP 4) INSTALL TFLITE-SUPPORT"
      ],
      "metadata": {
        "id": "V0Z_ZEsfC9uZ"
      }
    },
    {
      "cell_type": "code",
      "source": [
        "pip install tflite-support"
      ],
      "metadata": {
        "id": "Pxz-LNuh7_P2",
        "colab": {
          "base_uri": "https://localhost:8080/"
        },
        "outputId": "71be7a09-62c6-44c2-ac16-f2c0b4697473"
      },
      "execution_count": 3,
      "outputs": [
        {
          "output_type": "stream",
          "name": "stdout",
          "text": [
            "Collecting tflite-support\n",
            "  Downloading tflite_support-0.4.4-cp310-cp310-manylinux2014_x86_64.whl (60.8 MB)\n",
            "\u001b[2K     \u001b[90m━━━━━━━━━━━━━━━━━━━━━━━━━━━━━━━━━━━━━━━━\u001b[0m \u001b[32m60.8/60.8 MB\u001b[0m \u001b[31m14.1 MB/s\u001b[0m eta \u001b[36m0:00:00\u001b[0m\n",
            "\u001b[?25hRequirement already satisfied: absl-py>=0.7.0 in /usr/local/lib/python3.10/dist-packages (from tflite-support) (1.4.0)\n",
            "Requirement already satisfied: numpy>=1.20.0 in /usr/local/lib/python3.10/dist-packages (from tflite-support) (1.23.5)\n",
            "Requirement already satisfied: flatbuffers>=2.0 in /usr/local/lib/python3.10/dist-packages (from tflite-support) (23.5.26)\n",
            "Requirement already satisfied: protobuf<4,>=3.18.0 in /usr/local/lib/python3.10/dist-packages (from tflite-support) (3.20.3)\n",
            "Collecting sounddevice>=0.4.4 (from tflite-support)\n",
            "  Downloading sounddevice-0.4.6-py3-none-any.whl (31 kB)\n",
            "Collecting pybind11>=2.6.0 (from tflite-support)\n",
            "  Downloading pybind11-2.11.1-py3-none-any.whl (227 kB)\n",
            "\u001b[2K     \u001b[90m━━━━━━━━━━━━━━━━━━━━━━━━━━━━━━━━━━━━━━\u001b[0m \u001b[32m227.7/227.7 kB\u001b[0m \u001b[31m21.8 MB/s\u001b[0m eta \u001b[36m0:00:00\u001b[0m\n",
            "\u001b[?25hRequirement already satisfied: CFFI>=1.0 in /usr/local/lib/python3.10/dist-packages (from sounddevice>=0.4.4->tflite-support) (1.15.1)\n",
            "Requirement already satisfied: pycparser in /usr/local/lib/python3.10/dist-packages (from CFFI>=1.0->sounddevice>=0.4.4->tflite-support) (2.21)\n",
            "Installing collected packages: pybind11, sounddevice, tflite-support\n",
            "Successfully installed pybind11-2.11.1 sounddevice-0.4.6 tflite-support-0.4.4\n"
          ]
        }
      ]
    },
    {
      "cell_type": "markdown",
      "source": [
        "# STEP 5) FINALLY, RUN THE PYTHON SCRIPT USING THE FOLLOWING COMMAND"
      ],
      "metadata": {
        "id": "UdqTTu9gDA-0"
      }
    },
    {
      "cell_type": "code",
      "source": [
        "!python metadata_writer_for_image_classifier.py \\\n",
        "    --model_file=/mydrive/metadata/model.tflite \\\n",
        "    --label_file=/mydrive/metadata/labels.txt \\\n",
        "    --export_directory=/mydrive/metadata/model_with_metadata"
      ],
      "metadata": {
        "id": "_b2Pijgp9vwG",
        "colab": {
          "base_uri": "https://localhost:8080/"
        },
        "outputId": "519d4cb3-10e5-423e-e7da-097fa93f9059"
      },
      "execution_count": 11,
      "outputs": [
        {
          "output_type": "stream",
          "name": "stdout",
          "text": [
            "2023-08-17 08:34:58.518679: I tensorflow/core/platform/cpu_feature_guard.cc:182] This TensorFlow binary is optimized to use available CPU instructions in performance-critical operations.\n",
            "To enable the following instructions: AVX2 FMA, in other operations, rebuild TensorFlow with the appropriate compiler flags.\n",
            "2023-08-17 08:34:59.646087: W tensorflow/compiler/tf2tensorrt/utils/py_utils.cc:38] TF-TRT Warning: Could not find TensorRT\n",
            "Finished populating metadata and associated file to the model:\n",
            "/mydrive/metadata/model.tflite\n",
            "The metadata json file has been saved to:\n",
            "/mydrive/metadata/model_with_metadata/model.json\n",
            "The associated file that has been been packed to the model is:\n",
            "['labels.txt']\n"
          ]
        }
      ]
    },
    {
      "cell_type": "markdown",
      "source": [
        "The TFLite model with metadata is created inside the model_with_metadata folder along with the .json file."
      ],
      "metadata": {
        "id": "UicepA9JFs1e"
      }
    },
    {
      "cell_type": "markdown",
      "metadata": {
        "id": "5wlA4OSmiC-t"
      },
      "source": [
        "# **♕ TECHZIZOU ♕**\n",
        "\n",
        "\n",
        "\n"
      ]
    },
    {
      "cell_type": "markdown",
      "metadata": {
        "id": "CePE-vSvisXj"
      },
      "source": [
        "# 🖖"
      ]
    }
  ]
}